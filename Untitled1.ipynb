{
 "cells": [
  {
   "cell_type": "code",
   "execution_count": 2,
   "id": "43919573-0f61-4a78-ad78-1a8fba884b50",
   "metadata": {},
   "outputs": [],
   "source": [
    "import random\n",
    "from grass.pygrass.vector import VectorTopo\n",
    "from grass.pygrass.vector.geometry import Point, Line\n",
    "from grass.pygrass.raster import RasterSegment\n",
    "from grass.pygrass.utils import coor2pixel\n",
    "from grass.pygrass.gis.region import Region\n"
   ]
  },
  {
   "cell_type": "code",
   "execution_count": 3,
   "id": "1bac1b36-4963-474a-85b3-960e52b119e6",
   "metadata": {},
   "outputs": [],
   "source": [
    "a = VectorTopo(\"mains_tr_attributes_dense\", mode='r')"
   ]
  },
  {
   "cell_type": "code",
   "execution_count": null,
   "id": "b57736cc-82fa-4b41-926a-56adb40f43bc",
   "metadata": {},
   "outputs": [],
   "source": []
  },
  {
   "cell_type": "code",
   "execution_count": 4,
   "id": "8f028e17-9580-4f47-8cf7-dbcec31c7431",
   "metadata": {},
   "outputs": [],
   "source": [
    "b = VectorTopo(\"mains_tr_attributes_moved\", mode='w', overwrite=True)"
   ]
  },
  {
   "cell_type": "code",
   "execution_count": 13,
   "id": "f8030bad-dcb3-4f95-8586-2f100032054a",
   "metadata": {},
   "outputs": [
    {
     "name": "stdout",
     "output_type": "stream",
     "text": [
      " +----------------------------------------------------------------------------+\n",
      " | Name:            mains_tr_attributes_moved                                 |\n",
      " | Mapset:          anonymized_data                                           |\n",
      " | Location:        ww_covid_2022                                             |\n",
      " | Database:        /home/vpetras/Projects/ww-patrn/sewershed_delineation/dat |\n",
      " | Title:                                                                     |\n",
      " | Map scale:       1:1                                                       |\n",
      " | Name of creator: vpetras                                                   |\n",
      " | Organization:                                                              |\n",
      " | Source date:     Wed Feb 22 11:09:50 2023                                  |\n",
      " | Timestamp (first layer): none                                              |\n",
      " |----------------------------------------------------------------------------|\n",
      " | Map format:      native                                                    |\n",
      " |----------------------------------------------------------------------------|\n",
      " |   Type of map: vector (level: 2)                                           |\n",
      " |                                                                            |\n",
      " |   Number of points:       0               Number of centroids:  0          |\n",
      " |   Number of lines:        13334           Number of boundaries: 0          |\n",
      " |   Number of areas:        0               Number of islands:    0          |\n",
      " |                                                                            |\n",
      " |   Map is 3D:              No                                               |\n",
      " |   Number of dblinks:      0                                                |\n",
      " |                                                                            |\n",
      " |   Projection: NAD83 / North Carolina (ftUS)                                |\n",
      " |                                                                            |\n",
      " |               N:   818506.99240959    S:    785111.5748003                 |\n",
      " |               E:  2161801.02047119    W:  2133688.03046716                 |\n",
      " |                                                                            |\n",
      " |   Digitization threshold: 0                                                |\n",
      " |   Comment:                                                                 |\n",
      " |                                                                            |\n",
      " +----------------------------------------------------------------------------+\n",
      "\n"
     ]
    }
   ],
   "source": [
    "random.seed(a=None, version=2)\n",
    "\n",
    "uniform_min = 1\n",
    "uniform_max = 20\n",
    "\n",
    "raster = RasterSegment(\"mains_density_randomized\")\n",
    "raster.open(\"r\")\n",
    "region = Region()\n",
    "\n",
    "with a as test_vect, b as o_vect:\n",
    "    for feature in test_vect:\n",
    "        points = list(feature)\n",
    "        num_points = len(points)\n",
    "        #print(\"Line\")\n",
    "        new_point_list = []\n",
    "        #new_point_list.append(points[0])\n",
    "        #for i, point in enumerate(points[1:-1]):\n",
    "        for i, point in enumerate(points):\n",
    "            #if i % 2:\n",
    "            pixel = coor2pixel((point.x, point.y), region)\n",
    "            #print(pixel, pixel[0], pixel[1])\n",
    "            raster_value = raster[int(pixel[0]), int(pixel[1])]\n",
    "            x_shift = raster_value\n",
    "            y_shift = raster_value\n",
    "            # random.uniform(uniform_min, uniform_max)\n",
    "            #x_shift = random.uniform(0, raster_value)\n",
    "            #y_shift = random.uniform(0, raster_value)\n",
    "            point = Point(point.x + x_shift, point.y + y_shift)\n",
    "            new_point_list.append(point)\n",
    "        #new_point_list.append(points[-1])\n",
    "        # perhaps warn if there are no middle points\n",
    "        new_line = Line(new_point_list)\n",
    "        o_vect.write(new_line)\n",
    "!v.info map=mains_tr_attributes_moved"
   ]
  },
  {
   "cell_type": "code",
   "execution_count": 12,
   "id": "13f4eca0-fa49-45be-948f-55e00092c723",
   "metadata": {},
   "outputs": [
    {
     "name": "stdout",
     "output_type": "stream",
     "text": [
      "WARNING: Vector map <mains_tr_attributes_moved> already exists and will be\n",
      "         overwritten\n",
      "\u0007Building topology for vector map\n",
      "<mains_tr_attributes_moved@anonymized_data>...\n",
      "Registering primitives...\n",
      " +----------------------------------------------------------------------------+\n",
      " | Name:            mains_tr_attributes_moved                                 |\n",
      " | Mapset:          anonymized_data                                           |\n",
      " | Location:        ww_covid_2022                                             |\n",
      " | Database:        /home/vpetras/Projects/ww-patrn/sewershed_delineation/dat |\n",
      " | Title:                                                                     |\n",
      " | Map scale:       1:1                                                       |\n",
      " | Name of creator: vpetras                                                   |\n",
      " | Organization:                                                              |\n",
      " | Source date:     Wed Feb 22 21:31:10 2023                                  |\n",
      " | Timestamp (first layer): none                                              |\n",
      " |----------------------------------------------------------------------------|\n",
      " | Map format:      native                                                    |\n",
      " |----------------------------------------------------------------------------|\n",
      " |   Type of map: vector (level: 2)                                           |\n",
      " |                                                                            |\n",
      " |   Number of points:       0               Number of centroids:  0          |\n",
      " |   Number of lines:        13334           Number of boundaries: 0          |\n",
      " |   Number of areas:        0               Number of islands:    0          |\n",
      " |                                                                            |\n",
      " |   Map is 3D:              No                                               |\n",
      " |   Number of dblinks:      0                                                |\n",
      " |                                                                            |\n",
      " |   Projection: NAD83 / North Carolina (ftUS)                                |\n",
      " |                                                                            |\n",
      " |               N:   818506.99240959    S:    785111.5748003                 |\n",
      " |               E:  2161801.02047119    W:  2133688.03046716                 |\n",
      " |                                                                            |\n",
      " |   Digitization threshold: 0                                                |\n",
      " |   Comment:                                                                 |\n",
      " |                                                                            |\n",
      " +----------------------------------------------------------------------------+\n",
      "\n"
     ]
    }
   ],
   "source": [
    "!v.move.points input=mains_tr_attributes_dense x_raster=mains_density_randomized y_raster=mains_density_randomized output=mains_tr_attributes_moved --o\n",
    "!v.info map=mains_tr_attributes_moved"
   ]
  },
  {
   "cell_type": "code",
   "execution_count": null,
   "id": "3a3f191f-e505-455c-b1eb-6bdaff2e6513",
   "metadata": {},
   "outputs": [],
   "source": []
  }
 ],
 "metadata": {
  "kernelspec": {
   "display_name": "Python 3",
   "language": "python",
   "name": "python3"
  },
  "language_info": {
   "codemirror_mode": {
    "name": "ipython",
    "version": 3
   },
   "file_extension": ".py",
   "mimetype": "text/x-python",
   "name": "python",
   "nbconvert_exporter": "python",
   "pygments_lexer": "ipython3",
   "version": "3.8.10"
  }
 },
 "nbformat": 4,
 "nbformat_minor": 5
}
