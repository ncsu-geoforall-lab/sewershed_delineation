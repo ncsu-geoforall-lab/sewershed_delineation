{
 "cells": [
  {
   "cell_type": "markdown",
   "metadata": {},
   "source": [
    "# Sewershed delineation\n",
    "\n",
    "In this Jupyter notebook for Python, we delineate a sewershed based on a sewer network and census blocks.\n",
    "\n",
    "## Data requirements\n",
    "\n",
    "- Sewer mains\n",
    "  * Sewer gravity mains and possibly force mains.\n",
    "  * All flowing into one point (head of the sewershed).\n",
    "  * The lines don't need to be spatially connected in the data, but the processing will assume that all lines flow into a single point.\n",
    "- US Census blocks as polygons (areas) with demographics as attributes\n"
   ]
  },
  {
   "cell_type": "markdown",
   "metadata": {},
   "source": [
    "<div class=\"alert alert-block alert-warning\">\n",
    "<b>Note:</b>\n",
    "GRASS GIS 8.4 (currently in preview) is need for new version of <em>v.dissolve</em> tool and new <em>v.fill.holes</em> tool. Available at <a href=\"https://grass.osgeo.org/download/\">grass.osgeo.org, under download</a>.\n",
    "</div>"
   ]
  },
  {
   "cell_type": "markdown",
   "metadata": {},
   "source": [
    "## Software setup \n",
    "\n",
    "We will use a couple of standard Python packages and GRASS GIS.\n",
    "\n",
    "For now, the setup here assumes Linux. Instructions for Windows are available at [GRASS GIS Jupyter notebooks wiki page](https://grasswiki.osgeo.org/wiki/GRASS_GIS_Jupyter_notebooks#Running_a_Jupyter_notebook_locally)."
   ]
  },
  {
   "cell_type": "code",
   "execution_count": null,
   "metadata": {},
   "outputs": [],
   "source": [
    "# Import Python standard library and IPython packages we need.\n",
    "import os\n",
    "import subprocess\n",
    "import sys\n",
    "from pathlib import Path\n",
    "\n",
    "# Ask GRASS GIS where its Python packages are.\n",
    "sys.path.append(\n",
    "    subprocess.check_output([\"grass\", \"--config\", \"python_path\"], text=True).strip()\n",
    ")\n",
    "\n",
    "# Import the GRASS GIS packages we need.\n",
    "import grass.script as gs\n",
    "import grass.jupyter as gj"
   ]
  },
  {
   "cell_type": "markdown",
   "metadata": {},
   "source": [
    " extension appropriate for the format, e.g. mains.shp. Census blocks should be in data/census directory and named blocks plus a file extension. Either rename the files or modify the code below if ne extension appropriate for the format, e.g. mains.shp. Census blocks should be in data/census directory and named blocks plus a file extension. Either rename the files or modify the code below if ne## Get the data ready\n",
    "\n",
    "This notebooks needs gravity mains (or all mains) as vector lines and census blocks as vector polygons with attributes. The gravity mains file should be in directory `data/sewers` and should be named `mains` with file extension appropriate for the format, e.g. `mains.shp`. Census blocks should be in `data/census` directory and named `blocks` plus a file extension. Either rename the files or modify the code below if needed.\n",
    "\n",
    "The paths can be not only directories but also ZIP files. Similarly, the files can also be layers. The names will be passed to GDAL."
   ]
  },
  {
   "cell_type": "code",
   "execution_count": null,
   "metadata": {},
   "outputs": [],
   "source": [
    "grass_project = \"data/network_examples\""
   ]
  },
  {
   "cell_type": "markdown",
   "metadata": {},
   "source": [
    "To compute the data, we will use a GRASS project (aka location)."
   ]
  },
  {
   "cell_type": "code",
   "execution_count": null,
   "metadata": {},
   "outputs": [],
   "source": [
    "!grass -e -c $data_directory $grass_project"
   ]
  },
  {
   "cell_type": "code",
   "execution_count": null,
   "metadata": {},
   "outputs": [],
   "source": [
    "session = gj.init(grass_project)"
   ]
  },
  {
   "cell_type": "markdown",
   "metadata": {},
   "source": [
    "We will use vector lines of gravity mains as our sewershed network. Here, we are using Raleigh as an example. We will also use the US 2020 census blocks for North Carolina. The census blocks are polygons (i.e., areas).\n",
    "\n",
    "We store the names of GRASS vector maps in Python variables and will use the variables from now on."
   ]
  },
  {
   "cell_type": "code",
   "execution_count": null,
   "metadata": {},
   "outputs": [],
   "source": [
    "gs.run_command(\"v.import\", input=\"data/sewers_Raleigh/gravity_lines.shp\", output=\"raleigh\")\n",
    "gs.run_command(\n",
    "    \"v.import\",\n",
    "    input=\"data/sewers_Greenville/gravity_lines.shp\",\n",
    "    output=\"greenville\",\n",
    ")"
   ]
  },
  {
   "cell_type": "code",
   "execution_count": null,
   "metadata": {},
   "outputs": [],
   "source": [
    "point_file = \"wwtp_points\"  # Filename without file extension\n",
    "wwtp_vector = \"wwtp\"\n",
    "gs.run_command(\n",
    "    \"v.import\", input=\"data/sewers_Greenville\", layer=point_file, output=wwtp_vector\n",
    ")"
   ]
  },
  {
   "cell_type": "markdown",
   "metadata": {},
   "source": [
    "To limit the number of census blocks we need to import, we set the computational region to the extent of sewer mains (extended in all directions by 100 map units - feet or meter)."
   ]
  },
  {
   "cell_type": "markdown",
   "metadata": {},
   "source": [
    "## Select census blocks\n",
    "\n",
    "To get only the relevant census blocks, we select only census blocks which overlap with the sewer network."
   ]
  },
  {
   "cell_type": "code",
   "execution_count": null,
   "metadata": {},
   "outputs": [],
   "source": [
    "gs.run_command(\"g.region\", vector=\"raleigh\", grow=\"5000\")\n",
    "sewer_map = gj.Map(width=750, height=750, use_region=True)\n",
    "sewer_map.d_background(color=\"white\")\n",
    "sewer_map.d_vect(map=\"raleigh\", legend_label=\"Gravity mains\", color=\"#0067CC\")\n",
    "sewer_map.d_vect(\n",
    "    map=wwtp_vector,\n",
    "    legend_label=\"WWTP\",\n",
    "    color=\"#865A0C\",\n",
    "    fill_color=\"#FCA636\",\n",
    "    size=10,\n",
    "    icon=\"basic/circle\",\n",
    "    where=\"OWNER = 'City of Raleigh'\",\n",
    "    attribute_column=\"FACILITY\",\n",
    "    xref=\"right\",\n",
    "    yref=\"top\",\n",
    "    label_color=\"black\",\n",
    "    label_size=12,\n",
    "    label_bgcolor=\"white\",\n",
    "    flags=\"s\",\n",
    ")\n",
    "sewer_map.d_vect(\n",
    "    map=wwtp_vector,\n",
    "    legend_label=\"WWTP\",\n",
    "    color=\"#865A0C\",\n",
    "    fill_color=\"#FCA636\",\n",
    "    size=10,\n",
    "    icon=\"basic/circle\",\n",
    "    where=\"OWNER = 'City of Raleigh'\",\n",
    ")\n",
    "sewer_map.d_text(text=\"(a)\", color=\"#111111\", size=\"6\", at=(0, 95))\n",
    "sewer_map.d_legend_vect(flags=\"b\", at=(75, 19), title=\"Raleigh\")\n",
    "sewer_map.d_barscale(flags=\"n\", at=(65, 7))\n",
    "sewer_map.save(Path(\".\") / \"raleigh_mains.png\")\n",
    "sewer_map.show()"
   ]
  },
  {
   "cell_type": "code",
   "execution_count": null,
   "metadata": {},
   "outputs": [],
   "source": [
    "gs.run_command(\"g.region\", vector=\"greenville\", grow=\"5000\")\n",
    "sewer_map = gj.Map(width=750, height=750, use_region=True)\n",
    "sewer_map.d_background(color=\"white\")\n",
    "sewer_map.d_vect(map=\"greenville\", legend_label=\"Gravity mains\", color=\"#0067CC\")\n",
    "sewer_map.d_vect(\n",
    "    map=wwtp_vector,\n",
    "    legend_label=\"WWTP\",\n",
    "    color=\"#865A0C\",\n",
    "    fill_color=\"#FCA636\",\n",
    "    size=10,\n",
    "    icon=\"basic/circle\",\n",
    "    where=\"OWNER = 'Greenville Utilities Commission'\",\n",
    "    attribute_column=\"FACILITY\",\n",
    "    xref=\"left\",\n",
    "    yref=\"top\",\n",
    "    label_color=\"black\",\n",
    "    label_size=12,\n",
    ")\n",
    "sewer_map.d_text(text=\"(b)\", color=\"#111111\", size=\"5\", at=(0, 89))\n",
    "sewer_map.d_legend_vect(flags=\"b\", at=(75, 19), title=\"Greenville\")\n",
    "sewer_map.d_barscale(flags=\"n\", at=(58, 7))\n",
    "sewer_map.save(Path(\".\") / \"greenville_mains.png\")\n",
    "sewer_map.show()"
   ]
  },
  {
   "cell_type": "code",
   "execution_count": null,
   "metadata": {},
   "outputs": [],
   "source": [
    "!convert raleigh_mains.png greenville_mains.png +append mains_raleigh_greenville.png\n",
    "from IPython.display import Image\n",
    "\n",
    "Image(\"mains_raleigh_greenville.png\")"
   ]
  }
 ],
 "metadata": {
  "kernelspec": {
   "display_name": "Python 3",
   "language": "python",
   "name": "python3"
  },
  "language_info": {
   "codemirror_mode": {
    "name": "ipython",
    "version": 3
   },
   "file_extension": ".py",
   "mimetype": "text/x-python",
   "name": "python",
   "nbconvert_exporter": "python",
   "pygments_lexer": "ipython3",
   "version": "3.8.10"
  }
 },
 "nbformat": 4,
 "nbformat_minor": 4
}
