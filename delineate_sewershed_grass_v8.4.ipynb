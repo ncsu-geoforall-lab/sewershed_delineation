{
 "cells": [
  {
   "cell_type": "markdown",
   "metadata": {},
   "source": [
    "# Sewershed delineation\n",
    "\n",
    "In this Jupyter notebook for Python, we delineate a sewershed based on a sewer network and census blocks.\n",
    "\n",
    "## Data requirements\n",
    "\n",
    "- Sewer mains\n",
    "  * Sewer gravity mains and possibly force mains.\n",
    "  * All flowing into one point (head of the sewershed).\n",
    "  * The lines don't need to be spatially connected in the data, but the processing will assume that all lines flow into a single point.\n",
    "- US Census blocks as polygons (areas) with demographics as attributes\n"
   ]
  },
  {
   "cell_type": "markdown",
   "metadata": {},
   "source": [
    "<div class=\"alert alert-block alert-warning\">\n",
    "<b>Note:</b>\n",
    "GRASS GIS 8.4 (currently in preview) is need for new version of <em>v.dissolve</em> tool and new <em>v.fill.holes</em> tool. Available at <a href=\"https://grass.osgeo.org/download/\">grass.osgeo.org, under download</a>.\n",
    "</div>"
   ]
  },
  {
   "cell_type": "markdown",
   "metadata": {},
   "source": [
    "## Software setup \n",
    "\n",
    "We will use a couple of standard Python packages and GRASS GIS.\n",
    "\n",
    "For now, the setup here assumes Linux. Instructions for Windows are available at [GRASS GIS Jupyter notebooks wiki page](https://grasswiki.osgeo.org/wiki/GRASS_GIS_Jupyter_notebooks#Running_a_Jupyter_notebook_locally)."
   ]
  },
  {
   "cell_type": "code",
   "execution_count": null,
   "metadata": {},
   "outputs": [],
   "source": [
    "# Import Python standard library and IPython packages we need.\n",
    "import os\n",
    "import subprocess\n",
    "import sys\n",
    "from pathlib import Path\n",
    "\n",
    "# Ask GRASS GIS where its Python packages are.\n",
    "sys.path.append(\n",
    "    subprocess.check_output([\"grass\", \"--config\", \"python_path\"], text=True).strip()\n",
    ")\n",
    "\n",
    "# Import the GRASS GIS packages we need.\n",
    "import grass.script as gs\n",
    "import grass.jupyter as gj"
   ]
  },
  {
   "cell_type": "markdown",
   "metadata": {},
   "source": [
    "## Get the data ready\n",
    "\n",
    "This notebooks needs gravity mains (or all mains) as vector lines and census blocks as vector polygons with attributes. The gravity mains file should be in directory `data/sewers` and should be named `mains` with file extension appropriate for the format, e.g. `mains.shp`. Census blocks should be in `data/census` directory and named `blocks` plus a file extension. Either rename the files or modify the code below if needed.\n",
    "\n",
    "The paths can be not only directories but also ZIP files. Similarly, the files can also be layers. The names will be passed to GDAL."
   ]
  },
  {
   "cell_type": "code",
   "execution_count": null,
   "metadata": {},
   "outputs": [],
   "source": [
    "sewers_directory = \"data/sewers\"\n",
    "sewers_file = \"mains\"\n",
    "census_directory = \"data/census\"\n",
    "census_file = \"blocks\""
   ]
  },
  {
   "cell_type": "code",
   "execution_count": null,
   "metadata": {},
   "outputs": [],
   "source": [
    "grass_project = \"data/sewershed_delineation\""
   ]
  },
  {
   "cell_type": "markdown",
   "metadata": {},
   "source": [
    "To compute the data, we will use a GRASS project (aka location)."
   ]
  },
  {
   "cell_type": "code",
   "execution_count": null,
   "metadata": {},
   "outputs": [],
   "source": [
    "!grass -e -c $sewers_directory $grass_project"
   ]
  },
  {
   "cell_type": "code",
   "execution_count": null,
   "metadata": {},
   "outputs": [],
   "source": [
    "session = gj.init(grass_project)"
   ]
  },
  {
   "cell_type": "markdown",
   "metadata": {},
   "source": [
    "We will use vector lines of gravity mains as our sewershed network. Here, we are using Raleigh as an example. We will also use the US 2020 census blocks for North Carolina. The census blocks are polygons (i.e., areas).\n",
    "\n",
    "We store the names of GRASS vector maps in Python variables and will use the variables from now on."
   ]
  },
  {
   "cell_type": "code",
   "execution_count": null,
   "metadata": {},
   "outputs": [],
   "source": [
    "sewer_vector = \"mains\"\n",
    "census_blocks_vector = \"blocks\""
   ]
  },
  {
   "cell_type": "code",
   "execution_count": null,
   "metadata": {},
   "outputs": [],
   "source": [
    "gs.run_command(\n",
    "    \"v.import\", input=sewers_directory, layer=sewers_file, output=sewer_vector\n",
    ")"
   ]
  },
  {
   "cell_type": "markdown",
   "metadata": {},
   "source": [
    "To limit the number of census blocks we need to import, we set the computational region to the extent of sewer mains (extended in all directions by 100 map units - feet or meter)."
   ]
  },
  {
   "cell_type": "code",
   "execution_count": null,
   "metadata": {},
   "outputs": [],
   "source": [
    "gs.run_command(\"g.region\", vector=sewer_vector, res=1, grow=100)"
   ]
  },
  {
   "cell_type": "markdown",
   "metadata": {},
   "source": [
    "Now we import the census blocks in the computational region."
   ]
  },
  {
   "cell_type": "code",
   "execution_count": null,
   "metadata": {},
   "outputs": [],
   "source": [
    "gs.run_command(\n",
    "    \"v.import\",\n",
    "    input=census_directory,\n",
    "    layer=census_file,\n",
    "    output=census_blocks_vector,\n",
    "    extent=\"region\",\n",
    ")"
   ]
  },
  {
   "cell_type": "code",
   "execution_count": null,
   "metadata": {},
   "outputs": [],
   "source": [
    "sewershed_pipes_map = gj.Map()\n",
    "sewershed_pipes_map.d_vect(map=sewer_vector)\n",
    "sewershed_pipes_map.show()"
   ]
  },
  {
   "cell_type": "markdown",
   "metadata": {},
   "source": [
    "## Select census blocks\n",
    "\n",
    "To get only the relevant census blocks, we select only census blocks which overlap with the sewer network."
   ]
  },
  {
   "cell_type": "code",
   "execution_count": null,
   "metadata": {},
   "outputs": [],
   "source": [
    "sewershed_blocks = \"tmp_selected_blocks_for_sewershed\"\n",
    "\n",
    "gs.run_command(\n",
    "    \"v.select\",\n",
    "    ainput=census_blocks_vector,\n",
    "    atype=\"area\",\n",
    "    binput=sewer_vector,\n",
    "    output=sewershed_blocks,\n",
    "    operator=\"intersects\",\n",
    ")"
   ]
  },
  {
   "cell_type": "code",
   "execution_count": null,
   "metadata": {},
   "outputs": [],
   "source": [
    "census_blocks_map = gj.Map()\n",
    "census_blocks_map.d_vect(map=sewershed_blocks)\n",
    "census_blocks_map.show()"
   ]
  },
  {
   "cell_type": "markdown",
   "metadata": {},
   "source": [
    "## Create sewershed\n",
    "\n",
    "We still have only individual census blocks, now we connected them into one polygon (area) which will be our sewershed. We will do this by dissolving (removing) boundaries in between the census blocks. We will also compute aggregate statistics from several census block attribute columns to get population statistics for the sewershed."
   ]
  },
  {
   "cell_type": "markdown",
   "metadata": {},
   "source": [
    "Census column names need a key to explain the meaning, so we use shortened human-readable definitions for results."
   ]
  },
  {
   "cell_type": "code",
   "execution_count": null,
   "metadata": {},
   "outputs": [],
   "source": [
    "total_population_name = \"P0010001\"\n",
    "# This list of tuples (pairs) linking new and old column names\n",
    "population_columns = [\n",
    "    (\"race_white\", \"P0010003\"),\n",
    "    (\"race_black_or_african_american\", \"P0010004\"),\n",
    "    (\"race_american_indian_or_alaska_native\", \"P0010005\"),\n",
    "    (\"race_asian\", \"P0010006\"),\n",
    "    (\"race_native_hawaiian_and_other_pacific_islander\", \"P0010007\"),\n",
    "    (\"race_some_other_race\", \"P0010008\"),\n",
    "    (\"hispanic_or_latino\", \"P0020002\"),\n",
    "    (\"population_18_years_and_over\", \"P0030001\"),\n",
    "    (\"housing_units_total\", \"H0010001\"),\n",
    "    (\"housing_occupied\", \"H0010002\"),\n",
    "    (\"housing_vacant\", \"H0010003\"),\n",
    "    (\"quarters_total\", \"P0050001\"),\n",
    "    (\"quarters_correctional_facilities_for_adults\", \"P0050003\"),\n",
    "    (\"quarters_nursing_facilities\", \"P0050005\"),\n",
    "    (\"quarters_college_university_student_housing\", \"P0050008\"),\n",
    "    (\"quarters_military_quarters\", \"P0050009\"),\n",
    "]"
   ]
  },
  {
   "cell_type": "markdown",
   "metadata": {},
   "source": [
    "We will compute total population for the sewershed and express selected demographical information as a subset of that number. The SQL expression for aggregation as sum for total population is `sum(name)`, while the ratio is computed using `cast(sum(name) as real) / sum(total)`. The resulting column types are `integer` for the total population and `real` for the demographic ratios. Result columns need to be defined as `name type`. The following code takes care of both the expressions and the result column definitions."
   ]
  },
  {
   "cell_type": "code",
   "execution_count": null,
   "metadata": {},
   "outputs": [],
   "source": [
    "# Create expression sum(a).\n",
    "aggregate_columns = [f\"sum({total_population_name})\"]\n",
    "result_columns = [\"total_population integer\"]\n",
    "float_type = \"real\"\n",
    "for result_name, reference_name in population_columns:\n",
    "    # Create expression sum(a) / sum(b).\n",
    "    aggregate_columns.append(\n",
    "        f\"cast(sum({reference_name}) as {float_type}) \"\n",
    "        f\"/ sum({total_population_name})\"\n",
    "    )\n",
    "    result_columns.append(f\"{result_name} {float_type}\")"
   ]
  },
  {
   "cell_type": "markdown",
   "metadata": {},
   "source": [
    "Finally, we need to select a column to use for dissolving. All census blocks with the same value in this column will be merged into one polygon and the boundaries in between will disappear.\n",
    "\n",
    "We are using column State_Name because the state name is the same for all our census blocks and all our (previously selected) census blocks are part of the sewershed."
   ]
  },
  {
   "cell_type": "code",
   "execution_count": null,
   "metadata": {},
   "outputs": [],
   "source": [
    "# Dissolving is done based on the values in this column.\n",
    "dissolve_column = \"State_Name\"  # from US census data"
   ]
  },
  {
   "cell_type": "code",
   "execution_count": null,
   "metadata": {},
   "outputs": [],
   "source": [
    "sewershed = \"sewershed\"\n",
    "\n",
    "# Dissolve selected blocks and compute aggregate statistics.\n",
    "gs.run_command(\n",
    "    \"v.dissolve\",\n",
    "    input=sewershed_blocks,\n",
    "    column=dissolve_column,\n",
    "    output=sewershed,\n",
    "    aggregate_column=aggregate_columns,\n",
    "    result_column=result_columns,\n",
    ")"
   ]
  },
  {
   "cell_type": "code",
   "execution_count": null,
   "metadata": {},
   "outputs": [],
   "source": [
    "sewer_map = gj.Map()\n",
    "sewer_map.d_vect(map=sewershed)\n",
    "sewer_map.show()"
   ]
  },
  {
   "cell_type": "markdown",
   "metadata": {},
   "source": [
    "## Filling holes in the sewershed\n",
    "\n",
    "If the sewershed has holes, we can fill them by removing the interior rings. The following removes all holes in the sewershed:"
   ]
  },
  {
   "cell_type": "code",
   "execution_count": null,
   "metadata": {},
   "outputs": [],
   "source": [
    "sewershed_filled_holes = \"sewershed_filled_holes\"\n",
    "\n",
    "# Dissolve selected blocks and compute aggregate statistics.\n",
    "gs.run_command(\n",
    "    \"v.fill.holes\",\n",
    "    input=sewershed,\n",
    "    output=sewershed_filled_holes,\n",
    ")"
   ]
  },
  {
   "cell_type": "code",
   "execution_count": null,
   "metadata": {},
   "outputs": [],
   "source": [
    "sewer_map = gj.Map()\n",
    "sewer_map.d_vect(map=sewershed_filled_holes)\n",
    "sewer_map.d_vect(map=sewer_vector)\n",
    "sewer_map.show()"
   ]
  },
  {
   "cell_type": "markdown",
   "metadata": {},
   "source": [
    "## Demographics\n",
    "\n",
    "Using JSON, we will load sewershed attributes into a Pandas data frame."
   ]
  },
  {
   "cell_type": "code",
   "execution_count": null,
   "metadata": {},
   "outputs": [],
   "source": [
    "import json\n",
    "import pandas as pd\n",
    "\n",
    "data = pd.DataFrame(\n",
    "    json.loads(\n",
    "        gs.read_command(\"v.db.select\", map=sewershed_filled_holes, format=\"json\")\n",
    "    )[\"records\"]\n",
    ")"
   ]
  },
  {
   "cell_type": "code",
   "execution_count": null,
   "metadata": {},
   "outputs": [],
   "source": [
    "demographics = (\n",
    "    data.drop(\"cat\", axis=1)\n",
    "    .drop(\"State_Name\", axis=1)\n",
    "    .transpose()\n",
    "    .round(decimals=2)\n",
    "    .rename(columns={0: \"value\"})\n",
    ")"
   ]
  },
  {
   "cell_type": "markdown",
   "metadata": {},
   "source": [
    "Inspect the demographics:"
   ]
  },
  {
   "cell_type": "code",
   "execution_count": null,
   "metadata": {},
   "outputs": [],
   "source": [
    "demographics"
   ]
  },
  {
   "cell_type": "markdown",
   "metadata": {},
   "source": [
    "## Save results to files\n",
    "\n",
    "Save sewershed as GeoJSON and GeoPackage:"
   ]
  },
  {
   "cell_type": "code",
   "execution_count": null,
   "metadata": {},
   "outputs": [],
   "source": [
    "base_name = \"sewershed_with_demographics\"  # Modify as needed.\n",
    "# GeoJSON\n",
    "output_file = Path(sewers_directory) / f\"{base_name}.json\"\n",
    "gs.run_command(\n",
    "    \"v.out.ogr\", input=sewershed_filled_holes, output=output_file, format=\"GeoJSON\"\n",
    ")\n",
    "# OGC GeoPackage\n",
    "output_file = Path(sewers_directory) / f\"{base_name}.gpkg\"\n",
    "gs.run_command(\n",
    "    \"v.out.ogr\", input=sewershed_filled_holes, output=output_file, format=\"GPKG\"\n",
    ")\n",
    "# Other formats may work too, but notably, ESRI Shapefile will not because of its\n",
    "# limited column name length."
   ]
  },
  {
   "cell_type": "markdown",
   "metadata": {},
   "source": [
    "Save computed demographics as CSV:"
   ]
  },
  {
   "cell_type": "code",
   "execution_count": null,
   "metadata": {},
   "outputs": [],
   "source": [
    "demographics_csv = Path(sewers_directory) / \"demographics.csv\"  # Modify as needed.\n",
    "demographics.to_csv(demographics_csv, index_label=\"demographic\")"
   ]
  },
  {
   "cell_type": "markdown",
   "metadata": {},
   "source": [
    "## Create maps\n",
    "\n",
    "Create an image of the sewershed:"
   ]
  },
  {
   "cell_type": "code",
   "execution_count": null,
   "metadata": {},
   "outputs": [],
   "source": [
    "gs.run_command(\"g.region\", vector=sewershed_filled_holes, grow=\"5000\")\n",
    "sewer_map = gj.Map(width=750, use_region=True)\n",
    "sewer_map.d_background(color=\"white\")\n",
    "sewer_map.d_vect(map=sewershed_filled_holes, legend_label=\"Sewershed\")\n",
    "sewer_map.d_vect(map=sewer_vector, legend_label=\"Sewer mains\", color=\"#333333\")\n",
    "sewer_map.d_text(text=\"Sewershed\", color=\"#111111\", size=\"5\", at=(5, 92))\n",
    "sewer_map.d_legend_vect(flags=\"b\", at=(7, 10))\n",
    "sewer_map.d_barscale(flags=\"n\", at=(70, 7))\n",
    "sewer_map.save(Path(sewers_directory) / \"sewershed.png\")\n",
    "sewer_map.show()"
   ]
  },
  {
   "cell_type": "markdown",
   "metadata": {},
   "source": [
    "Create an interactive map of the sewershed:"
   ]
  },
  {
   "cell_type": "code",
   "execution_count": null,
   "metadata": {},
   "outputs": [],
   "source": [
    "sewer_map = gj.InteractiveMap()\n",
    "sewer_map.add_vector(sewershed_filled_holes)\n",
    "sewer_map.add_layer_control()\n",
    "sewer_map.show()"
   ]
  }
 ],
 "metadata": {
  "kernelspec": {
   "display_name": "Python 3",
   "language": "python",
   "name": "python3"
  },
  "language_info": {
   "codemirror_mode": {
    "name": "ipython",
    "version": 3
   },
   "file_extension": ".py",
   "mimetype": "text/x-python",
   "name": "python",
   "nbconvert_exporter": "python",
   "pygments_lexer": "ipython3",
   "version": "3.8.10"
  }
 },
 "nbformat": 4,
 "nbformat_minor": 4
}
