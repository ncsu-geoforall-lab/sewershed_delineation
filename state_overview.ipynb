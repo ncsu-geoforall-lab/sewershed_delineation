{
 "cells": [
  {
   "cell_type": "markdown",
   "metadata": {},
   "source": [
    "# Sewershed delineation\n",
    "\n",
    "In this Jupyter notebook for Python, we delineate a sewershed based on a sewer network and census blocks.\n",
    "\n",
    "## Data requirements\n",
    "\n",
    "- Sewer mains\n",
    "  * Sewer gravity mains and possibly force mains.\n",
    "  * All flowing into one point (head of the sewershed).\n",
    "  * The lines don't need to be spatially connected in the data, but the processing will assume that all lines flow into a single point.\n",
    "- US Census blocks as polygons (areas) with demographics as attributes\n"
   ]
  },
  {
   "cell_type": "markdown",
   "metadata": {},
   "source": [
    "<div class=\"alert alert-block alert-warning\">\n",
    "<b>Note:</b>\n",
    "GRASS GIS 8.4 (currently in preview) is need for new version of <em>v.dissolve</em> tool and new <em>v.fill.holes</em> tool. Available at <a href=\"https://grass.osgeo.org/download/\">grass.osgeo.org, under download</a>.\n",
    "</div>"
   ]
  },
  {
   "cell_type": "markdown",
   "metadata": {},
   "source": [
    "## Software setup \n",
    "\n",
    "We will use a couple of standard Python packages and GRASS GIS.\n",
    "\n",
    "For now, the setup here assumes Linux. Instructions for Windows are available at [GRASS GIS Jupyter notebooks wiki page](https://grasswiki.osgeo.org/wiki/GRASS_GIS_Jupyter_notebooks#Running_a_Jupyter_notebook_locally)."
   ]
  },
  {
   "cell_type": "code",
   "execution_count": null,
   "metadata": {},
   "outputs": [],
   "source": [
    "# Import Python standard library and IPython packages we need.\n",
    "import os\n",
    "import subprocess\n",
    "import sys\n",
    "from pathlib import Path\n",
    "\n",
    "# Ask GRASS GIS where its Python packages are.\n",
    "sys.path.append(\n",
    "    subprocess.check_output([\"grass\", \"--config\", \"python_path\"], text=True).strip()\n",
    ")\n",
    "\n",
    "# Import the GRASS GIS packages we need.\n",
    "import grass.script as gs\n",
    "import grass.jupyter as gj"
   ]
  },
  {
   "cell_type": "markdown",
   "metadata": {},
   "source": [
    " extension appropriate for the format, e.g. mains.shp. Census blocks should be in data/census directory and named blocks plus a file extension. Either rename the files or modify the code below if ne extension appropriate for the format, e.g. mains.shp. Census blocks should be in data/census directory and named blocks plus a file extension. Either rename the files or modify the code below if ne## Get the data ready\n",
    "\n",
    "This notebooks needs gravity mains (or all mains) as vector lines and census blocks as vector polygons with attributes. The gravity mains file should be in directory `data/sewers` and should be named `mains` with file extension appropriate for the format, e.g. `mains.shp`. Census blocks should be in `data/census` directory and named `blocks` plus a file extension. Either rename the files or modify the code below if needed.\n",
    "\n",
    "The paths can be not only directories but also ZIP files. Similarly, the files can also be layers. The names will be passed to GDAL."
   ]
  },
  {
   "cell_type": "code",
   "execution_count": null,
   "metadata": {},
   "outputs": [],
   "source": [
    "data_directory = \"data/sewers_state\"\n",
    "point_file = \"NCWMN_shed_pts_042523\"  # Filename without file extension"
   ]
  },
  {
   "cell_type": "code",
   "execution_count": null,
   "metadata": {},
   "outputs": [],
   "source": [
    "grass_project = \"data/state_overview\""
   ]
  },
  {
   "cell_type": "markdown",
   "metadata": {},
   "source": [
    "To compute the data, we will use a GRASS project (aka location)."
   ]
  },
  {
   "cell_type": "code",
   "execution_count": null,
   "metadata": {},
   "outputs": [],
   "source": [
    "!grass -e -c $data_directory $grass_project"
   ]
  },
  {
   "cell_type": "code",
   "execution_count": null,
   "metadata": {},
   "outputs": [],
   "source": [
    "session = gj.init(grass_project)"
   ]
  },
  {
   "cell_type": "markdown",
   "metadata": {},
   "source": [
    "We will use vector lines of gravity mains as our sewershed network. Here, we are using Raleigh as an example. We will also use the US 2020 census blocks for North Carolina. The census blocks are polygons (i.e., areas).\n",
    "\n",
    "We store the names of GRASS vector maps in Python variables and will use the variables from now on."
   ]
  },
  {
   "cell_type": "code",
   "execution_count": null,
   "metadata": {},
   "outputs": [],
   "source": [
    "point_vector = \"points\""
   ]
  },
  {
   "cell_type": "code",
   "execution_count": null,
   "metadata": {},
   "outputs": [],
   "source": [
    "gs.run_command(\"v.import\", input=data_directory, layer=point_file, output=point_vector)"
   ]
  },
  {
   "cell_type": "markdown",
   "metadata": {},
   "source": [
    "To limit the number of census blocks we need to import, we set the computational region to the extent of sewer mains (extended in all directions by 100 map units - feet or meter)."
   ]
  },
  {
   "cell_type": "code",
   "execution_count": null,
   "metadata": {},
   "outputs": [],
   "source": [
    "gs.run_command(\"g.region\", vector=point_vector, res=1, grow=100)"
   ]
  },
  {
   "cell_type": "markdown",
   "metadata": {},
   "source": [
    "## Select census blocks\n",
    "\n",
    "To get only the relevant census blocks, we select only census blocks which overlap with the sewer network."
   ]
  },
  {
   "cell_type": "code",
   "execution_count": null,
   "metadata": {},
   "outputs": [],
   "source": [
    "large_sewersheds = \"large_sewersheds\"\n",
    "\n",
    "gs.run_command(\n",
    "    \"v.extract\",\n",
    "    input=point_vector,\n",
    "    output=large_sewersheds,\n",
    "    where=\"pop_2020 > 100000\",\n",
    ")"
   ]
  },
  {
   "cell_type": "code",
   "execution_count": null,
   "metadata": {},
   "outputs": [],
   "source": [
    "gs.run_command(\"g.region\", vector=\"nc_state\", res=1000, grow=50)\n",
    "state_map = gj.Map(width=1024, use_region=True)\n",
    "state_map.d_background(color=\"white\")\n",
    "state_map.d_vect(flags=\"s\", map=\"nc_state\", fill_color=\"none\")\n",
    "state_map.d_vect_thematic(\n",
    "    map=point_vector,\n",
    "    column=\"pop_2020\",\n",
    "    legend_title=\"Population per sewershed\",\n",
    "    colors=\"#ADA8A7,#6A00A8,#B12A90,#E16462,#FCA636,#F0F921\",\n",
    "    breaks=[100000, 200000, 300000, 400000],\n",
    "    boundary_color=\"none\",\n",
    "    icon=\"basic/circle\",\n",
    "    size=10,\n",
    ")\n",
    "# state_map.d_vect(flags=\"s\", map=point_vector, where=\"pop_2020 > 100000\", color=\"none\", fill_color=\"none\", attribute_column=\"site_name\", label_color=\"#777777\", label_size=10)\n",
    "gs.run_command(\n",
    "    \"v.label.sa\",\n",
    "    map=large_sewersheds,\n",
    "    column=\"site_name\",\n",
    "    labels=\"points_site_name\",\n",
    "    font=\"DejaVuSans\",\n",
    "    size=30000,\n",
    "    color=\"black\",\n",
    "    isize=25000,\n",
    ")\n",
    "state_map.d_labels(labels=\"points_site_name\")\n",
    "state_map.d_legend_vect(flags=\"b\", at=(3, 34), columns=2)\n",
    "state_map.d_barscale(flags=\"n\", at=(2, 7), length=200, units=\"kilometers\")\n",
    "state_map.save(Path(sewers_directory) / \"nc_sewersheds.png\")\n",
    "state_map.show()"
   ]
  }
 ],
 "metadata": {
  "kernelspec": {
   "display_name": "Python 3",
   "language": "python",
   "name": "python3"
  },
  "language_info": {
   "codemirror_mode": {
    "name": "ipython",
    "version": 3
   },
   "file_extension": ".py",
   "mimetype": "text/x-python",
   "name": "python",
   "nbconvert_exporter": "python",
   "pygments_lexer": "ipython3",
   "version": "3.8.10"
  }
 },
 "nbformat": 4,
 "nbformat_minor": 4
}
