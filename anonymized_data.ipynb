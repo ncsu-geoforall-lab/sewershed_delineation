{
 "cells": [
  {
   "cell_type": "code",
   "execution_count": null,
   "id": "5614b4ee-15f7-492b-95f4-a3e090d11b7c",
   "metadata": {},
   "outputs": [],
   "source": [
    "# Import Python standard library and IPython packages we need.\n",
    "import os\n",
    "import subprocess\n",
    "import sys\n",
    "import json\n",
    "from pathlib import Path\n",
    "\n",
    "# Ask GRASS GIS where its Python packages are.\n",
    "sys.path.append(\n",
    "    subprocess.check_output([\"grass\", \"--config\", \"python_path\"], text=True).strip()\n",
    ")\n",
    "\n",
    "# Import the GRASS GIS packages we need.\n",
    "import grass.script as gs\n",
    "import grass.jupyter as gj"
   ]
  },
  {
   "cell_type": "code",
   "execution_count": null,
   "id": "f9f3a9ce-dc2a-4999-b684-296c4f6bb28d",
   "metadata": {},
   "outputs": [],
   "source": [
    "grass_project = \"data/ww_covid_2022/anonymized_data\"\n",
    "session = gj.init(grass_project)"
   ]
  },
  {
   "cell_type": "code",
   "execution_count": null,
   "id": "13f4eca0-fa49-45be-948f-55e00092c723",
   "metadata": {},
   "outputs": [],
   "source": [
    "!v.move.points input=mains_tr_attributes_dense x_raster=mains_density_randomized y_raster=mains_density_randomized output=mains_tr_attributes_moved --o"
   ]
  },
  {
   "cell_type": "code",
   "execution_count": null,
   "id": "49d3da8d-128e-4e31-b0d9-7aeea4f6e0f8",
   "metadata": {},
   "outputs": [],
   "source": [
    "gs.run_command(\"g.region\", vector=\"mains_tr_attributes_dense,mains_tr_attributes_moved\")\n",
    "sewer_map = gj.Map(use_region=True, width=900)\n",
    "sewer_map.d_background(color=\"white\")\n",
    "sewer_map.d_vect(map=\"mains_tr_attributes_dense\", color=\"blue\", legend_label=\"Original\")\n",
    "sewer_map.d_vect(map=\"mains_tr_attributes_moved\", color=\"red\", legend_label=\"Shifted\")\n",
    "sewer_map.d_legend_vect(at=(70,10))\n",
    "sewer_map.show()"
   ]
  },
  {
   "cell_type": "code",
   "execution_count": null,
   "id": "3a3f191f-e505-455c-b1eb-6bdaff2e6513",
   "metadata": {},
   "outputs": [],
   "source": [
    "!v.info mains_tr_attributes_dense -g\n",
    "!v.info mains_tr_attributes_moved -g"
   ]
  }
 ],
 "metadata": {
  "kernelspec": {
   "display_name": "Python 3",
   "language": "python",
   "name": "python3"
  },
  "language_info": {
   "codemirror_mode": {
    "name": "ipython",
    "version": 3
   },
   "file_extension": ".py",
   "mimetype": "text/x-python",
   "name": "python",
   "nbconvert_exporter": "python",
   "pygments_lexer": "ipython3",
   "version": "3.8.10"
  }
 },
 "nbformat": 4,
 "nbformat_minor": 5
}
