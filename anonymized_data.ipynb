{
 "cells": [
  {
   "cell_type": "code",
   "execution_count": null,
   "id": "5614b4ee-15f7-492b-95f4-a3e090d11b7c",
   "metadata": {},
   "outputs": [],
   "source": [
    "# Import Python standard library and IPython packages we need.\n",
    "import os\n",
    "import subprocess\n",
    "import sys\n",
    "import json\n",
    "from pathlib import Path\n",
    "\n",
    "# Ask GRASS GIS where its Python packages are.\n",
    "sys.path.append(\n",
    "    subprocess.check_output([\"grass\", \"--config\", \"python_path\"], text=True).strip()\n",
    ")\n",
    "\n",
    "# Import the GRASS GIS packages we need.\n",
    "import grass.script as gs\n",
    "import grass.jupyter as gj"
   ]
  },
  {
   "cell_type": "code",
   "execution_count": null,
   "id": "f9f3a9ce-dc2a-4999-b684-296c4f6bb28d",
   "metadata": {},
   "outputs": [],
   "source": [
    "grass_project = \"data/ww_covid_2022/\"\n",
    "subproject = \"anonymized_data3\""
   ]
  },
  {
   "cell_type": "code",
   "execution_count": null,
   "id": "d8b03c4d-0806-4724-9934-bc13e6167a3c",
   "metadata": {},
   "outputs": [],
   "source": [
    "!grass -e -c $grass_project/$subproject"
   ]
  },
  {
   "cell_type": "code",
   "execution_count": null,
   "id": "b1ecf524-5730-484a-b9c6-5f1e852c0451",
   "metadata": {},
   "outputs": [],
   "source": [
    "session = gj.init(Path(grass_project) / subproject)"
   ]
  },
  {
   "cell_type": "code",
   "execution_count": null,
   "id": "17b2b7fc-6bfb-4119-a48c-2f7ad64ac6ce",
   "metadata": {},
   "outputs": [],
   "source": [
    "!v.extract input=raleigh_gravity_mains@imported_RaleighSewer where=\"Discharge =  'Smith Creek'\" output=mains_subset"
   ]
  },
  {
   "cell_type": "code",
   "execution_count": null,
   "id": "c5cd3b65-1b8c-4779-a199-c8c4e93a14f6",
   "metadata": {},
   "outputs": [],
   "source": [
    "!v.build.polylines input=\"mains_subset\" output=\"mains_subset_polylines\" cats=\"first\" type=\"line,boundary\"\n",
    "!v.split input=\"mains_subset_polylines\" layer=\"-1\" output=\"mains_subset_dense\" length=75 units=\"map\""
   ]
  },
  {
   "cell_type": "code",
   "execution_count": null,
   "id": "272979da-6b76-4a7f-9153-c34a111fa9a7",
   "metadata": {},
   "outputs": [],
   "source": [
    "# Needs to be updated to 1) remove ascii 2) densified lines.\n",
    "!v.out.ascii mains_subset separator=\" \" type=line format=standard | grep -vE \"^L|^ 1\" | grep -v \"[a-zA-Z]\" | v.in.ascii input=- output=mains_points format=point separator=\" \" x=2 y=3 --o\n",
    "!v.kernel input=\"mains_points\" output=\"mains_density\" radius=1000 dsize=0. segmax=100. distmax=100. multiplier=1000 kernel=\"gaussian\""
   ]
  },
  {
   "cell_type": "code",
   "execution_count": null,
   "id": "11469fa0-1996-41b2-b6eb-961c09f16790",
   "metadata": {},
   "outputs": [],
   "source": [
    "gs.mapcalc(\n",
    "    \"mains_density_randomized = 2 * rand(mains_density, 1 / mains_density)\"\n",
    "    \" + 1000 * sin(row() / 100)\"\n",
    "    \" + 100 * sin(col())\",\n",
    "    seed=1,\n",
    ")"
   ]
  },
  {
   "cell_type": "code",
   "execution_count": null,
   "id": "13f4eca0-fa49-45be-948f-55e00092c723",
   "metadata": {},
   "outputs": [],
   "source": [
    "!v.move.points input=mains_subset_dense x_raster=mains_density_randomized y_raster=mains_density_randomized output=mains_subset_moved"
   ]
  },
  {
   "cell_type": "code",
   "execution_count": null,
   "id": "49d3da8d-128e-4e31-b0d9-7aeea4f6e0f8",
   "metadata": {},
   "outputs": [],
   "source": [
    "gs.run_command(\"g.region\", vector=\"mains_subset_dense,mains_subset\")\n",
    "sewer_map = gj.Map(use_region=True, width=900)\n",
    "sewer_map.d_background(color=\"white\")\n",
    "sewer_map.d_vect(map=\"mains_subset_dense\", color=\"blue\", legend_label=\"Original\")\n",
    "#sewer_map.d_vect(map=\"mains_subset_moved\", color=\"red\", legend_label=\"Shifted\")\n",
    "sewer_map.d_legend_vect(at=(70,10))\n",
    "sewer_map.show()"
   ]
  },
  {
   "cell_type": "code",
   "execution_count": null,
   "id": "1d57b36e-46eb-4298-8b64-f8849df200f2",
   "metadata": {},
   "outputs": [],
   "source": [
    "!v.info mains_subset_moved"
   ]
  },
  {
   "cell_type": "code",
   "execution_count": null,
   "id": "332d4026-59c5-4cd3-88aa-edd4a0b03274",
   "metadata": {},
   "outputs": [],
   "source": [
    "!ls -lah $grass_project/$subproject/vector/mains_subset_moved"
   ]
  }
 ],
 "metadata": {
  "kernelspec": {
   "display_name": "Python 3",
   "language": "python",
   "name": "python3"
  },
  "language_info": {
   "codemirror_mode": {
    "name": "ipython",
    "version": 3
   },
   "file_extension": ".py",
   "mimetype": "text/x-python",
   "name": "python",
   "nbconvert_exporter": "python",
   "pygments_lexer": "ipython3",
   "version": "3.8.10"
  }
 },
 "nbformat": 4,
 "nbformat_minor": 5
}
